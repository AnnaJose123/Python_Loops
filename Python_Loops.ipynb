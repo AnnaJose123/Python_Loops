{
  "nbformat": 4,
  "nbformat_minor": 0,
  "metadata": {
    "colab": {
      "provenance": []
    },
    "kernelspec": {
      "name": "python3",
      "display_name": "Python 3"
    },
    "language_info": {
      "name": "python"
    }
  },
  "cells": [
    {
      "cell_type": "code",
      "execution_count": 1,
      "metadata": {
        "id": "r8VXXGQG2DTF"
      },
      "outputs": [],
      "source": [
        "#1"
      ]
    },
    {
      "cell_type": "code",
      "source": [
        "x=int(input(\"Enter the age of first person : \"))\n",
        "y=int(input(\"Enter the age of second person : \"))\n",
        "z=int(input(\"Enter the age of third person : \"))\n",
        "if (x >= y) and (x >= z):\n",
        "   largest = x\n",
        "elif (y >= x) and (y >= z):\n",
        "   largest = y\n",
        "else:\n",
        "   largest = z\n",
        "if (x <= y) and (x <= z):\n",
        "   smallest = x\n",
        "elif (y <= x) and (y <= z):\n",
        "   smallest = y\n",
        "else:\n",
        "   smallest = z\n",
        "\n",
        "print(\"The Oldest is\", largest)\n",
        "print(\"The Youngest is\",smallest)\n"
      ],
      "metadata": {
        "colab": {
          "base_uri": "https://localhost:8080/"
        },
        "id": "qj9CqKJd2ItO",
        "outputId": "6167e783-5f2f-474d-979b-8f561a92cbb5"
      },
      "execution_count": 2,
      "outputs": [
        {
          "output_type": "stream",
          "name": "stdout",
          "text": [
            "Enter the age of first person : 15\n",
            "Enter the age of second person : 17\n",
            "Enter the age of third person : 16\n",
            "The Oldest is 17\n",
            "The Youngest is 15\n"
          ]
        }
      ]
    },
    {
      "cell_type": "code",
      "source": [
        "#2"
      ],
      "metadata": {
        "id": "B3tCVp5y54-m"
      },
      "execution_count": 3,
      "outputs": []
    },
    {
      "cell_type": "code",
      "source": [
        "x=int(input(\"Enter the score : \"))\n",
        "if x>=90:\n",
        "  print(\"Grade A\")\n",
        "elif x>=80 and x<=89:\n",
        "  print(\"Grade B\")\n",
        "elif x>=70 and x<=79:\n",
        "  print(\"Grade C\")\n",
        "else:\n",
        "  print(\"Grade F\")"
      ],
      "metadata": {
        "colab": {
          "base_uri": "https://localhost:8080/"
        },
        "id": "MUQep5o_58tY",
        "outputId": "e67ff81c-5cbd-4d27-ab86-daad06cf9fd6"
      },
      "execution_count": 4,
      "outputs": [
        {
          "output_type": "stream",
          "name": "stdout",
          "text": [
            "Enter the score : 79\n",
            "Grade C\n"
          ]
        }
      ]
    },
    {
      "cell_type": "code",
      "source": [
        "#3"
      ],
      "metadata": {
        "id": "gnaB18Mq7ghQ"
      },
      "execution_count": 5,
      "outputs": []
    },
    {
      "cell_type": "code",
      "source": [
        "x=int(input(\"Enter the number of items : \"))\n",
        "Items=[]\n",
        "for i in range(1,x+1):\n",
        "  y = input(\"Enter the item \")\n",
        "  Items.append(y)\n",
        "Items.sort()\n",
        "Items"
      ],
      "metadata": {
        "colab": {
          "base_uri": "https://localhost:8080/"
        },
        "id": "n-lkD_x_7tHp",
        "outputId": "8961e767-3d6a-40cf-caec-86f9fcc6918a"
      },
      "execution_count": 6,
      "outputs": [
        {
          "name": "stdout",
          "output_type": "stream",
          "text": [
            "Enter the number of items : 5\n",
            "Enter the item Apple\n",
            "Enter the item Mango\n",
            "Enter the item Orange\n",
            "Enter the item Grapes\n",
            "Enter the item Pineapple\n"
          ]
        },
        {
          "output_type": "execute_result",
          "data": {
            "text/plain": [
              "['Apple', 'Grapes', 'Mango', 'Orange', 'Pineapple']"
            ]
          },
          "metadata": {},
          "execution_count": 6
        }
      ]
    },
    {
      "cell_type": "code",
      "source": [
        "#4"
      ],
      "metadata": {
        "id": "BbVSYzDhQNX1"
      },
      "execution_count": 7,
      "outputs": []
    },
    {
      "cell_type": "code",
      "source": [
        "domain=['mail.com','mail.cc','mail.org','mail-archive.com']\n",
        "flag=1\n",
        "while(flag==1):\n",
        "  mail=input('Please enter your email address : ')\n",
        "  if(mail.count('@')!=True):\n",
        "    print(f\"{mail} is not valid email address . Enter a valid email address.\")\n",
        "    continue\n",
        "  local, d = mail.split(\"@\")\n",
        "  for dom in domain:\n",
        "            if d.endswith(dom):\n",
        "                flag=0\n",
        "                break\n",
        "  else:\n",
        "     print(f\"{mail} is not valid email address . Enter a valid email address.\")\n"
      ],
      "metadata": {
        "id": "HV3g0VZd_oTj",
        "colab": {
          "base_uri": "https://localhost:8080/"
        },
        "outputId": "83147deb-a69b-4f89-8129-5b488878dd5a"
      },
      "execution_count": 8,
      "outputs": [
        {
          "name": "stdout",
          "output_type": "stream",
          "text": [
            "Please enter your email address : annajose@uuumlt\n",
            "annajose@uuumlt is not valid email address . Enter a valid email address.\n",
            "Please enter your email address : annutom$gmail.com\n",
            "annutom$gmail.com is not valid email address . Enter a valid email address.\n",
            "Please enter your email address : annajose@gmail.com\n"
          ]
        }
      ]
    },
    {
      "cell_type": "code",
      "source": [
        "#5"
      ],
      "metadata": {
        "id": "S8tyX_obQS63"
      },
      "execution_count": 9,
      "outputs": []
    },
    {
      "cell_type": "code",
      "source": [
        "DaysDelayed=int(input('Number of Delayed days : '))\n",
        "if(DaysDelayed<=7):\n",
        "  print('No fine')\n",
        "elif(DaysDelayed<=30):\n",
        "  print(f'Fine is {DaysDelayed*2}')\n",
        "elif(DaysDelayed>30):\n",
        "  print(f'Fine is {DaysDelayed*5}')"
      ],
      "metadata": {
        "id": "RR0TFtERD8G0",
        "colab": {
          "base_uri": "https://localhost:8080/"
        },
        "outputId": "61545039-261d-4599-eb98-2c62c4bf249c"
      },
      "execution_count": 22,
      "outputs": [
        {
          "output_type": "stream",
          "name": "stdout",
          "text": [
            "Number of Delayed days : 11\n",
            "Fine is 22\n"
          ]
        }
      ]
    },
    {
      "cell_type": "code",
      "source": [
        "#6"
      ],
      "metadata": {
        "id": "_ec9qx0vQUEb"
      },
      "execution_count": 11,
      "outputs": []
    },
    {
      "cell_type": "code",
      "source": [
        "V=['a','e','i','o','u','A','E','I','O','U']\n",
        "C=input('Enter a charactor ')\n",
        "for i in V:\n",
        "  if C==i:\n",
        "    print('vowel')\n",
        "    break\n",
        "else:\n",
        "   print('Not a vowel')"
      ],
      "metadata": {
        "id": "fnW58QC9Ecd9",
        "colab": {
          "base_uri": "https://localhost:8080/"
        },
        "outputId": "e7f2f28a-b05d-481e-c452-e7597c48ccd0"
      },
      "execution_count": 23,
      "outputs": [
        {
          "output_type": "stream",
          "name": "stdout",
          "text": [
            "Enter a charactor a\n",
            "vowel\n"
          ]
        }
      ]
    },
    {
      "cell_type": "code",
      "source": [
        "#7"
      ],
      "metadata": {
        "id": "cd0-ISxDQVTX"
      },
      "execution_count": 13,
      "outputs": []
    },
    {
      "cell_type": "code",
      "source": [
        "num = int(input(\"Enter a number: \"))\n",
        "fact = 1\n",
        "for i in range(1,num+1):\n",
        "    fact*= i\n",
        "print(f\"The factorial of {num} is: {fact}\")"
      ],
      "metadata": {
        "id": "9CvVjs8mRdgF",
        "colab": {
          "base_uri": "https://localhost:8080/"
        },
        "outputId": "0ed4c1c5-90a7-45f7-fd58-0a1378a0eded"
      },
      "execution_count": 14,
      "outputs": [
        {
          "output_type": "stream",
          "name": "stdout",
          "text": [
            "Enter a number: 10\n",
            "The factorial of 10 is: 3628800\n"
          ]
        }
      ]
    },
    {
      "cell_type": "code",
      "source": [
        "#8"
      ],
      "metadata": {
        "id": "DDp5K1ErQXXv"
      },
      "execution_count": 15,
      "outputs": []
    },
    {
      "cell_type": "code",
      "source": [
        "n = int(input(\"Enter the limit \"))\n",
        "x = 0\n",
        "y = 1\n",
        "sum = x + y\n",
        "c = 1\n",
        "print(\"Fibonacci series is: \", end=\" \")\n",
        "while (c <= n):\n",
        "\tc += 1\n",
        "\tprint(x, end=\" \")\n",
        "\tx = y\n",
        "\ty = sum\n",
        "\tsum = x + y"
      ],
      "metadata": {
        "colab": {
          "base_uri": "https://localhost:8080/"
        },
        "id": "6fu6THMuQnvj",
        "outputId": "19eef9f0-5ff4-4117-eff4-1e23ffb011b5"
      },
      "execution_count": 16,
      "outputs": [
        {
          "output_type": "stream",
          "name": "stdout",
          "text": [
            "Enter the limit 10\n",
            "Fibonacci series is:  0 1 1 2 3 5 8 13 21 34 "
          ]
        }
      ]
    },
    {
      "cell_type": "code",
      "source": [
        "#9"
      ],
      "metadata": {
        "id": "UeDX9GoPQYg1"
      },
      "execution_count": 17,
      "outputs": []
    },
    {
      "cell_type": "code",
      "source": [
        "from random import randint\n",
        "f=randint(1,10)\n",
        "for i in range(3):\n",
        "  s=input(\"Enter a num \")\n",
        "  if(s==f):\n",
        "    print('good')\n",
        "    break\n",
        "print(f)"
      ],
      "metadata": {
        "id": "8RIpitT7Xx1v",
        "colab": {
          "base_uri": "https://localhost:8080/"
        },
        "outputId": "8e4b1b77-7ade-42ec-f50c-84277ff2cecc"
      },
      "execution_count": 29,
      "outputs": [
        {
          "output_type": "stream",
          "name": "stdout",
          "text": [
            "Enter a num 5\n",
            "Enter a num 4\n",
            "Enter a num 6\n",
            "10\n"
          ]
        }
      ]
    },
    {
      "cell_type": "code",
      "source": [
        "#10"
      ],
      "metadata": {
        "id": "mkKqOiT7QbGr"
      },
      "execution_count": 19,
      "outputs": []
    },
    {
      "cell_type": "code",
      "source": [
        "x=True\n",
        "n1=int(input('Enter the first number '))\n",
        "n2=int(input('Enter the second number '))\n",
        "for j in range(2):\n",
        " while(x):\n",
        "  print('Sum')\n",
        "  print('Difference')\n",
        "  print('Product')\n",
        "  print('Division')\n",
        "  print('Exit')\n",
        "  op=input(\"Enter your choice: \")\n",
        "  if(op=='Sum'):\n",
        "   print(n1+n2)\n",
        "  elif(op=='Difference'):\n",
        "   print(n1-n2)\n",
        "  elif(op=='Product'):\n",
        "   print(n1*n2)\n",
        "  elif(op=='Division'):\n",
        "   print(n1/n2)\n",
        "  elif(op=='Exit'):\n",
        "   p=False\n",
        "  else:\n",
        "     print('Select correct option')"
      ],
      "metadata": {
        "id": "3kIEq3kSQcCo",
        "colab": {
          "base_uri": "https://localhost:8080/"
        },
        "outputId": "6815c005-9934-4481-d83d-9b640d5fd790"
      },
      "execution_count": null,
      "outputs": [
        {
          "output_type": "stream",
          "name": "stdout",
          "text": [
            "Enter the first number 5\n",
            "Enter the second number 6\n",
            "Sum\n",
            "Difference\n",
            "Product\n",
            "Division\n",
            "Exit\n",
            "Enter your choice: add\n",
            "Select correct option\n",
            "Sum\n",
            "Difference\n",
            "Product\n",
            "Division\n",
            "Exit\n",
            "Enter your choice: Sum\n",
            "11\n",
            "Sum\n",
            "Difference\n",
            "Product\n",
            "Division\n",
            "Exit\n",
            "Enter your choice: Difference\n",
            "-1\n",
            "Sum\n",
            "Difference\n",
            "Product\n",
            "Division\n",
            "Exit\n",
            "Enter your choice: Product\n",
            "30\n",
            "Sum\n",
            "Difference\n",
            "Product\n",
            "Division\n",
            "Exit\n",
            "Enter your choice: Division\n",
            "0.8333333333333334\n",
            "Sum\n",
            "Difference\n",
            "Product\n",
            "Division\n",
            "Exit\n",
            "Enter your choice: Exit\n",
            "Sum\n",
            "Difference\n",
            "Product\n",
            "Division\n",
            "Exit\n"
          ]
        }
      ]
    }
  ]
}